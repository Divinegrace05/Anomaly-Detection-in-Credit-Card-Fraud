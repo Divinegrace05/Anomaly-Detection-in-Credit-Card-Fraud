{
 "cells": [
  {
   "cell_type": "markdown",
   "id": "281a71c9",
   "metadata": {},
   "source": [
    "# Anomaly Detection in Credit Card Fraud"
   ]
  },
  {
   "cell_type": "markdown",
   "id": "9d1ee54c",
   "metadata": {},
   "source": [
    "## Project Overview\n",
    "\n",
    "Credit card fraud detection is a critical task in financial security, where fraudulent transactions need to be identified quickly and accurately. Fraudulent transactions are relatively rare compared to legitimate ones, making this a highly imbalanced classification problem. Traditional machine learning models struggle with such extreme imbalances, as they tend to favor the majority class, leading to misleadingly high accuracy but poor recall for fraud cases. \n",
    "\n",
    "Instead of treating this as a conventional classification problem, anomaly detection techniques provide a more effective solution by identifying transactions that significantly deviate from normal spending behavior. This approach allows us to detect fraud even when fraud patterns change over time, as anomaly detection models do not rely on predefined fraud labels but instead learn what constitutes a normal transaction and flag deviations as potential fraud. \n",
    "\n",
    "In this project, we will explore two anomaly detection techniques: Isolation Forest and Autoencoder (a neural network-based method). These models are particularly useful because they can detect fraud even when labeled fraud cases are scarce, making them more robust to evolving fraud techniques."
   ]
  },
  {
   "cell_type": "markdown",
   "id": "a25c2d6e",
   "metadata": {},
   "source": [
    "### Dataset Description\n",
    "\n",
    "The dataset, sourced from [Kaggle](https://www.kaggle.com/datasets/mlg-ulb/creditcardfraud/code?datasetId=310&sortBy=voteCount), contains credit card transactions with the following characteristics:\n",
    "\n",
    "- Total transactions: 284,315\n",
    "- Features: 31 (28 PCA-transformed features, Time, Amount, and Class)\n",
    "- Target variable: Class (0: normal, 1: fraud)"
   ]
  },
  {
   "cell_type": "markdown",
   "id": "bfc20db8",
   "metadata": {},
   "source": [
    "### Project Objectives\n",
    "\n",
    "The main objective of this project is to detect anomalies in credit card transactions using anomaly detection models rather than traditional supervised classification. Since fraudulent transactions are rare and exhibit patterns that differ significantly from normal transactions, anomaly detection techniques such as Isolation Forest and Autoencoders will be used to identify fraud cases. \n",
    "\n",
    "Our approach involves several key steps: \n",
    "1. analyzing the class distribution and understanding the data, \n",
    "2. applying appropriate preprocessing techniques, including feature scaling, \n",
    "3. implementing Isolation Forest and Autoencoder models to detect anomalies, \n",
    "4. evaluating the models using metrics suitable for imbalanced datasets, and \n",
    "5. comparing the performance of these models and determining which one is more effective in identifying fraudulent transactions. \n",
    "\n",
    "The final goal is to provide recommendations for improving fraud detection systems based on the results of our analysis."
   ]
  },
  {
   "cell_type": "code",
   "execution_count": 1,
   "id": "a775480f",
   "metadata": {},
   "outputs": [
    {
     "name": "stderr",
     "output_type": "stream",
     "text": [
      "C:\\Users\\Han\\anaconda3\\envs\\learn-env\\lib\\site-packages\\scipy\\__init__.py:138: UserWarning: A NumPy version >=1.16.5 and <1.23.0 is required for this version of SciPy (detected version 1.24.3)\n",
      "  warnings.warn(f\"A NumPy version >={np_minversion} and <{np_maxversion} is required for this version of \"\n"
     ]
    },
    {
     "data": {
      "text/html": [
       "<div>\n",
       "<style scoped>\n",
       "    .dataframe tbody tr th:only-of-type {\n",
       "        vertical-align: middle;\n",
       "    }\n",
       "\n",
       "    .dataframe tbody tr th {\n",
       "        vertical-align: top;\n",
       "    }\n",
       "\n",
       "    .dataframe thead th {\n",
       "        text-align: right;\n",
       "    }\n",
       "</style>\n",
       "<table border=\"1\" class=\"dataframe\">\n",
       "  <thead>\n",
       "    <tr style=\"text-align: right;\">\n",
       "      <th></th>\n",
       "      <th>Time</th>\n",
       "      <th>V1</th>\n",
       "      <th>V2</th>\n",
       "      <th>V3</th>\n",
       "      <th>V4</th>\n",
       "      <th>V5</th>\n",
       "      <th>V6</th>\n",
       "      <th>V7</th>\n",
       "      <th>V8</th>\n",
       "      <th>V9</th>\n",
       "      <th>...</th>\n",
       "      <th>V21</th>\n",
       "      <th>V22</th>\n",
       "      <th>V23</th>\n",
       "      <th>V24</th>\n",
       "      <th>V25</th>\n",
       "      <th>V26</th>\n",
       "      <th>V27</th>\n",
       "      <th>V28</th>\n",
       "      <th>Amount</th>\n",
       "      <th>Class</th>\n",
       "    </tr>\n",
       "  </thead>\n",
       "  <tbody>\n",
       "    <tr>\n",
       "      <th>0</th>\n",
       "      <td>0.0</td>\n",
       "      <td>-1.359807</td>\n",
       "      <td>-0.072781</td>\n",
       "      <td>2.536347</td>\n",
       "      <td>1.378155</td>\n",
       "      <td>-0.338321</td>\n",
       "      <td>0.462388</td>\n",
       "      <td>0.239599</td>\n",
       "      <td>0.098698</td>\n",
       "      <td>0.363787</td>\n",
       "      <td>...</td>\n",
       "      <td>-0.018307</td>\n",
       "      <td>0.277838</td>\n",
       "      <td>-0.110474</td>\n",
       "      <td>0.066928</td>\n",
       "      <td>0.128539</td>\n",
       "      <td>-0.189115</td>\n",
       "      <td>0.133558</td>\n",
       "      <td>-0.021053</td>\n",
       "      <td>149.62</td>\n",
       "      <td>0</td>\n",
       "    </tr>\n",
       "    <tr>\n",
       "      <th>1</th>\n",
       "      <td>0.0</td>\n",
       "      <td>1.191857</td>\n",
       "      <td>0.266151</td>\n",
       "      <td>0.166480</td>\n",
       "      <td>0.448154</td>\n",
       "      <td>0.060018</td>\n",
       "      <td>-0.082361</td>\n",
       "      <td>-0.078803</td>\n",
       "      <td>0.085102</td>\n",
       "      <td>-0.255425</td>\n",
       "      <td>...</td>\n",
       "      <td>-0.225775</td>\n",
       "      <td>-0.638672</td>\n",
       "      <td>0.101288</td>\n",
       "      <td>-0.339846</td>\n",
       "      <td>0.167170</td>\n",
       "      <td>0.125895</td>\n",
       "      <td>-0.008983</td>\n",
       "      <td>0.014724</td>\n",
       "      <td>2.69</td>\n",
       "      <td>0</td>\n",
       "    </tr>\n",
       "    <tr>\n",
       "      <th>2</th>\n",
       "      <td>1.0</td>\n",
       "      <td>-1.358354</td>\n",
       "      <td>-1.340163</td>\n",
       "      <td>1.773209</td>\n",
       "      <td>0.379780</td>\n",
       "      <td>-0.503198</td>\n",
       "      <td>1.800499</td>\n",
       "      <td>0.791461</td>\n",
       "      <td>0.247676</td>\n",
       "      <td>-1.514654</td>\n",
       "      <td>...</td>\n",
       "      <td>0.247998</td>\n",
       "      <td>0.771679</td>\n",
       "      <td>0.909412</td>\n",
       "      <td>-0.689281</td>\n",
       "      <td>-0.327642</td>\n",
       "      <td>-0.139097</td>\n",
       "      <td>-0.055353</td>\n",
       "      <td>-0.059752</td>\n",
       "      <td>378.66</td>\n",
       "      <td>0</td>\n",
       "    </tr>\n",
       "    <tr>\n",
       "      <th>3</th>\n",
       "      <td>1.0</td>\n",
       "      <td>-0.966272</td>\n",
       "      <td>-0.185226</td>\n",
       "      <td>1.792993</td>\n",
       "      <td>-0.863291</td>\n",
       "      <td>-0.010309</td>\n",
       "      <td>1.247203</td>\n",
       "      <td>0.237609</td>\n",
       "      <td>0.377436</td>\n",
       "      <td>-1.387024</td>\n",
       "      <td>...</td>\n",
       "      <td>-0.108300</td>\n",
       "      <td>0.005274</td>\n",
       "      <td>-0.190321</td>\n",
       "      <td>-1.175575</td>\n",
       "      <td>0.647376</td>\n",
       "      <td>-0.221929</td>\n",
       "      <td>0.062723</td>\n",
       "      <td>0.061458</td>\n",
       "      <td>123.50</td>\n",
       "      <td>0</td>\n",
       "    </tr>\n",
       "    <tr>\n",
       "      <th>4</th>\n",
       "      <td>2.0</td>\n",
       "      <td>-1.158233</td>\n",
       "      <td>0.877737</td>\n",
       "      <td>1.548718</td>\n",
       "      <td>0.403034</td>\n",
       "      <td>-0.407193</td>\n",
       "      <td>0.095921</td>\n",
       "      <td>0.592941</td>\n",
       "      <td>-0.270533</td>\n",
       "      <td>0.817739</td>\n",
       "      <td>...</td>\n",
       "      <td>-0.009431</td>\n",
       "      <td>0.798278</td>\n",
       "      <td>-0.137458</td>\n",
       "      <td>0.141267</td>\n",
       "      <td>-0.206010</td>\n",
       "      <td>0.502292</td>\n",
       "      <td>0.219422</td>\n",
       "      <td>0.215153</td>\n",
       "      <td>69.99</td>\n",
       "      <td>0</td>\n",
       "    </tr>\n",
       "  </tbody>\n",
       "</table>\n",
       "<p>5 rows × 31 columns</p>\n",
       "</div>"
      ],
      "text/plain": [
       "   Time        V1        V2        V3        V4        V5        V6        V7  \\\n",
       "0   0.0 -1.359807 -0.072781  2.536347  1.378155 -0.338321  0.462388  0.239599   \n",
       "1   0.0  1.191857  0.266151  0.166480  0.448154  0.060018 -0.082361 -0.078803   \n",
       "2   1.0 -1.358354 -1.340163  1.773209  0.379780 -0.503198  1.800499  0.791461   \n",
       "3   1.0 -0.966272 -0.185226  1.792993 -0.863291 -0.010309  1.247203  0.237609   \n",
       "4   2.0 -1.158233  0.877737  1.548718  0.403034 -0.407193  0.095921  0.592941   \n",
       "\n",
       "         V8        V9  ...       V21       V22       V23       V24       V25  \\\n",
       "0  0.098698  0.363787  ... -0.018307  0.277838 -0.110474  0.066928  0.128539   \n",
       "1  0.085102 -0.255425  ... -0.225775 -0.638672  0.101288 -0.339846  0.167170   \n",
       "2  0.247676 -1.514654  ...  0.247998  0.771679  0.909412 -0.689281 -0.327642   \n",
       "3  0.377436 -1.387024  ... -0.108300  0.005274 -0.190321 -1.175575  0.647376   \n",
       "4 -0.270533  0.817739  ... -0.009431  0.798278 -0.137458  0.141267 -0.206010   \n",
       "\n",
       "        V26       V27       V28  Amount  Class  \n",
       "0 -0.189115  0.133558 -0.021053  149.62      0  \n",
       "1  0.125895 -0.008983  0.014724    2.69      0  \n",
       "2 -0.139097 -0.055353 -0.059752  378.66      0  \n",
       "3 -0.221929  0.062723  0.061458  123.50      0  \n",
       "4  0.502292  0.219422  0.215153   69.99      0  \n",
       "\n",
       "[5 rows x 31 columns]"
      ]
     },
     "execution_count": 1,
     "metadata": {},
     "output_type": "execute_result"
    }
   ],
   "source": [
    "import pandas as pd\n",
    "import numpy as np\n",
    "import matplotlib.pyplot as plt\n",
    "import seaborn as sns\n",
    "import warnings\n",
    "warnings.filterwarnings(\"ignore\")\n",
    "\n",
    "# Load the dataset\n",
    "df = pd.read_csv(\"creditcard.csv\")\n",
    "df.head()"
   ]
  },
  {
   "cell_type": "code",
   "execution_count": 2,
   "id": "c9824a9c",
   "metadata": {
    "scrolled": true
   },
   "outputs": [
    {
     "name": "stdout",
     "output_type": "stream",
     "text": [
      "<class 'pandas.core.frame.DataFrame'>\n",
      "RangeIndex: 284807 entries, 0 to 284806\n",
      "Data columns (total 31 columns):\n",
      " #   Column  Non-Null Count   Dtype  \n",
      "---  ------  --------------   -----  \n",
      " 0   Time    284807 non-null  float64\n",
      " 1   V1      284807 non-null  float64\n",
      " 2   V2      284807 non-null  float64\n",
      " 3   V3      284807 non-null  float64\n",
      " 4   V4      284807 non-null  float64\n",
      " 5   V5      284807 non-null  float64\n",
      " 6   V6      284807 non-null  float64\n",
      " 7   V7      284807 non-null  float64\n",
      " 8   V8      284807 non-null  float64\n",
      " 9   V9      284807 non-null  float64\n",
      " 10  V10     284807 non-null  float64\n",
      " 11  V11     284807 non-null  float64\n",
      " 12  V12     284807 non-null  float64\n",
      " 13  V13     284807 non-null  float64\n",
      " 14  V14     284807 non-null  float64\n",
      " 15  V15     284807 non-null  float64\n",
      " 16  V16     284807 non-null  float64\n",
      " 17  V17     284807 non-null  float64\n",
      " 18  V18     284807 non-null  float64\n",
      " 19  V19     284807 non-null  float64\n",
      " 20  V20     284807 non-null  float64\n",
      " 21  V21     284807 non-null  float64\n",
      " 22  V22     284807 non-null  float64\n",
      " 23  V23     284807 non-null  float64\n",
      " 24  V24     284807 non-null  float64\n",
      " 25  V25     284807 non-null  float64\n",
      " 26  V26     284807 non-null  float64\n",
      " 27  V27     284807 non-null  float64\n",
      " 28  V28     284807 non-null  float64\n",
      " 29  Amount  284807 non-null  float64\n",
      " 30  Class   284807 non-null  int64  \n",
      "dtypes: float64(30), int64(1)\n",
      "memory usage: 67.4 MB\n"
     ]
    }
   ],
   "source": [
    "df.info()"
   ]
  },
  {
   "cell_type": "code",
   "execution_count": 3,
   "id": "c6ec2bbb",
   "metadata": {},
   "outputs": [
    {
     "data": {
      "text/plain": [
       "(284807, 31)"
      ]
     },
     "execution_count": 3,
     "metadata": {},
     "output_type": "execute_result"
    }
   ],
   "source": [
    "df.shape"
   ]
  },
  {
   "cell_type": "code",
   "execution_count": 4,
   "id": "30c2c43e",
   "metadata": {},
   "outputs": [
    {
     "data": {
      "text/html": [
       "<div>\n",
       "<style scoped>\n",
       "    .dataframe tbody tr th:only-of-type {\n",
       "        vertical-align: middle;\n",
       "    }\n",
       "\n",
       "    .dataframe tbody tr th {\n",
       "        vertical-align: top;\n",
       "    }\n",
       "\n",
       "    .dataframe thead th {\n",
       "        text-align: right;\n",
       "    }\n",
       "</style>\n",
       "<table border=\"1\" class=\"dataframe\">\n",
       "  <thead>\n",
       "    <tr style=\"text-align: right;\">\n",
       "      <th></th>\n",
       "      <th>Time</th>\n",
       "      <th>V1</th>\n",
       "      <th>V2</th>\n",
       "      <th>V3</th>\n",
       "      <th>V4</th>\n",
       "      <th>V5</th>\n",
       "      <th>V6</th>\n",
       "      <th>V7</th>\n",
       "      <th>V8</th>\n",
       "      <th>V9</th>\n",
       "      <th>...</th>\n",
       "      <th>V21</th>\n",
       "      <th>V22</th>\n",
       "      <th>V23</th>\n",
       "      <th>V24</th>\n",
       "      <th>V25</th>\n",
       "      <th>V26</th>\n",
       "      <th>V27</th>\n",
       "      <th>V28</th>\n",
       "      <th>Amount</th>\n",
       "      <th>Class</th>\n",
       "    </tr>\n",
       "  </thead>\n",
       "  <tbody>\n",
       "    <tr>\n",
       "      <th>count</th>\n",
       "      <td>284807.000000</td>\n",
       "      <td>2.848070e+05</td>\n",
       "      <td>2.848070e+05</td>\n",
       "      <td>2.848070e+05</td>\n",
       "      <td>2.848070e+05</td>\n",
       "      <td>2.848070e+05</td>\n",
       "      <td>2.848070e+05</td>\n",
       "      <td>2.848070e+05</td>\n",
       "      <td>2.848070e+05</td>\n",
       "      <td>2.848070e+05</td>\n",
       "      <td>...</td>\n",
       "      <td>2.848070e+05</td>\n",
       "      <td>2.848070e+05</td>\n",
       "      <td>2.848070e+05</td>\n",
       "      <td>2.848070e+05</td>\n",
       "      <td>2.848070e+05</td>\n",
       "      <td>2.848070e+05</td>\n",
       "      <td>2.848070e+05</td>\n",
       "      <td>2.848070e+05</td>\n",
       "      <td>284807.000000</td>\n",
       "      <td>284807.000000</td>\n",
       "    </tr>\n",
       "    <tr>\n",
       "      <th>mean</th>\n",
       "      <td>94813.859575</td>\n",
       "      <td>1.168375e-15</td>\n",
       "      <td>3.416908e-16</td>\n",
       "      <td>-1.379537e-15</td>\n",
       "      <td>2.074095e-15</td>\n",
       "      <td>9.604066e-16</td>\n",
       "      <td>1.487313e-15</td>\n",
       "      <td>-5.556467e-16</td>\n",
       "      <td>1.213481e-16</td>\n",
       "      <td>-2.406331e-15</td>\n",
       "      <td>...</td>\n",
       "      <td>1.654067e-16</td>\n",
       "      <td>-3.568593e-16</td>\n",
       "      <td>2.578648e-16</td>\n",
       "      <td>4.473266e-15</td>\n",
       "      <td>5.340915e-16</td>\n",
       "      <td>1.683437e-15</td>\n",
       "      <td>-3.660091e-16</td>\n",
       "      <td>-1.227390e-16</td>\n",
       "      <td>88.349619</td>\n",
       "      <td>0.001727</td>\n",
       "    </tr>\n",
       "    <tr>\n",
       "      <th>std</th>\n",
       "      <td>47488.145955</td>\n",
       "      <td>1.958696e+00</td>\n",
       "      <td>1.651309e+00</td>\n",
       "      <td>1.516255e+00</td>\n",
       "      <td>1.415869e+00</td>\n",
       "      <td>1.380247e+00</td>\n",
       "      <td>1.332271e+00</td>\n",
       "      <td>1.237094e+00</td>\n",
       "      <td>1.194353e+00</td>\n",
       "      <td>1.098632e+00</td>\n",
       "      <td>...</td>\n",
       "      <td>7.345240e-01</td>\n",
       "      <td>7.257016e-01</td>\n",
       "      <td>6.244603e-01</td>\n",
       "      <td>6.056471e-01</td>\n",
       "      <td>5.212781e-01</td>\n",
       "      <td>4.822270e-01</td>\n",
       "      <td>4.036325e-01</td>\n",
       "      <td>3.300833e-01</td>\n",
       "      <td>250.120109</td>\n",
       "      <td>0.041527</td>\n",
       "    </tr>\n",
       "    <tr>\n",
       "      <th>min</th>\n",
       "      <td>0.000000</td>\n",
       "      <td>-5.640751e+01</td>\n",
       "      <td>-7.271573e+01</td>\n",
       "      <td>-4.832559e+01</td>\n",
       "      <td>-5.683171e+00</td>\n",
       "      <td>-1.137433e+02</td>\n",
       "      <td>-2.616051e+01</td>\n",
       "      <td>-4.355724e+01</td>\n",
       "      <td>-7.321672e+01</td>\n",
       "      <td>-1.343407e+01</td>\n",
       "      <td>...</td>\n",
       "      <td>-3.483038e+01</td>\n",
       "      <td>-1.093314e+01</td>\n",
       "      <td>-4.480774e+01</td>\n",
       "      <td>-2.836627e+00</td>\n",
       "      <td>-1.029540e+01</td>\n",
       "      <td>-2.604551e+00</td>\n",
       "      <td>-2.256568e+01</td>\n",
       "      <td>-1.543008e+01</td>\n",
       "      <td>0.000000</td>\n",
       "      <td>0.000000</td>\n",
       "    </tr>\n",
       "    <tr>\n",
       "      <th>25%</th>\n",
       "      <td>54201.500000</td>\n",
       "      <td>-9.203734e-01</td>\n",
       "      <td>-5.985499e-01</td>\n",
       "      <td>-8.903648e-01</td>\n",
       "      <td>-8.486401e-01</td>\n",
       "      <td>-6.915971e-01</td>\n",
       "      <td>-7.682956e-01</td>\n",
       "      <td>-5.540759e-01</td>\n",
       "      <td>-2.086297e-01</td>\n",
       "      <td>-6.430976e-01</td>\n",
       "      <td>...</td>\n",
       "      <td>-2.283949e-01</td>\n",
       "      <td>-5.423504e-01</td>\n",
       "      <td>-1.618463e-01</td>\n",
       "      <td>-3.545861e-01</td>\n",
       "      <td>-3.171451e-01</td>\n",
       "      <td>-3.269839e-01</td>\n",
       "      <td>-7.083953e-02</td>\n",
       "      <td>-5.295979e-02</td>\n",
       "      <td>5.600000</td>\n",
       "      <td>0.000000</td>\n",
       "    </tr>\n",
       "    <tr>\n",
       "      <th>50%</th>\n",
       "      <td>84692.000000</td>\n",
       "      <td>1.810880e-02</td>\n",
       "      <td>6.548556e-02</td>\n",
       "      <td>1.798463e-01</td>\n",
       "      <td>-1.984653e-02</td>\n",
       "      <td>-5.433583e-02</td>\n",
       "      <td>-2.741871e-01</td>\n",
       "      <td>4.010308e-02</td>\n",
       "      <td>2.235804e-02</td>\n",
       "      <td>-5.142873e-02</td>\n",
       "      <td>...</td>\n",
       "      <td>-2.945017e-02</td>\n",
       "      <td>6.781943e-03</td>\n",
       "      <td>-1.119293e-02</td>\n",
       "      <td>4.097606e-02</td>\n",
       "      <td>1.659350e-02</td>\n",
       "      <td>-5.213911e-02</td>\n",
       "      <td>1.342146e-03</td>\n",
       "      <td>1.124383e-02</td>\n",
       "      <td>22.000000</td>\n",
       "      <td>0.000000</td>\n",
       "    </tr>\n",
       "    <tr>\n",
       "      <th>75%</th>\n",
       "      <td>139320.500000</td>\n",
       "      <td>1.315642e+00</td>\n",
       "      <td>8.037239e-01</td>\n",
       "      <td>1.027196e+00</td>\n",
       "      <td>7.433413e-01</td>\n",
       "      <td>6.119264e-01</td>\n",
       "      <td>3.985649e-01</td>\n",
       "      <td>5.704361e-01</td>\n",
       "      <td>3.273459e-01</td>\n",
       "      <td>5.971390e-01</td>\n",
       "      <td>...</td>\n",
       "      <td>1.863772e-01</td>\n",
       "      <td>5.285536e-01</td>\n",
       "      <td>1.476421e-01</td>\n",
       "      <td>4.395266e-01</td>\n",
       "      <td>3.507156e-01</td>\n",
       "      <td>2.409522e-01</td>\n",
       "      <td>9.104512e-02</td>\n",
       "      <td>7.827995e-02</td>\n",
       "      <td>77.165000</td>\n",
       "      <td>0.000000</td>\n",
       "    </tr>\n",
       "    <tr>\n",
       "      <th>max</th>\n",
       "      <td>172792.000000</td>\n",
       "      <td>2.454930e+00</td>\n",
       "      <td>2.205773e+01</td>\n",
       "      <td>9.382558e+00</td>\n",
       "      <td>1.687534e+01</td>\n",
       "      <td>3.480167e+01</td>\n",
       "      <td>7.330163e+01</td>\n",
       "      <td>1.205895e+02</td>\n",
       "      <td>2.000721e+01</td>\n",
       "      <td>1.559499e+01</td>\n",
       "      <td>...</td>\n",
       "      <td>2.720284e+01</td>\n",
       "      <td>1.050309e+01</td>\n",
       "      <td>2.252841e+01</td>\n",
       "      <td>4.584549e+00</td>\n",
       "      <td>7.519589e+00</td>\n",
       "      <td>3.517346e+00</td>\n",
       "      <td>3.161220e+01</td>\n",
       "      <td>3.384781e+01</td>\n",
       "      <td>25691.160000</td>\n",
       "      <td>1.000000</td>\n",
       "    </tr>\n",
       "  </tbody>\n",
       "</table>\n",
       "<p>8 rows × 31 columns</p>\n",
       "</div>"
      ],
      "text/plain": [
       "                Time            V1            V2            V3            V4  \\\n",
       "count  284807.000000  2.848070e+05  2.848070e+05  2.848070e+05  2.848070e+05   \n",
       "mean    94813.859575  1.168375e-15  3.416908e-16 -1.379537e-15  2.074095e-15   \n",
       "std     47488.145955  1.958696e+00  1.651309e+00  1.516255e+00  1.415869e+00   \n",
       "min         0.000000 -5.640751e+01 -7.271573e+01 -4.832559e+01 -5.683171e+00   \n",
       "25%     54201.500000 -9.203734e-01 -5.985499e-01 -8.903648e-01 -8.486401e-01   \n",
       "50%     84692.000000  1.810880e-02  6.548556e-02  1.798463e-01 -1.984653e-02   \n",
       "75%    139320.500000  1.315642e+00  8.037239e-01  1.027196e+00  7.433413e-01   \n",
       "max    172792.000000  2.454930e+00  2.205773e+01  9.382558e+00  1.687534e+01   \n",
       "\n",
       "                 V5            V6            V7            V8            V9  \\\n",
       "count  2.848070e+05  2.848070e+05  2.848070e+05  2.848070e+05  2.848070e+05   \n",
       "mean   9.604066e-16  1.487313e-15 -5.556467e-16  1.213481e-16 -2.406331e-15   \n",
       "std    1.380247e+00  1.332271e+00  1.237094e+00  1.194353e+00  1.098632e+00   \n",
       "min   -1.137433e+02 -2.616051e+01 -4.355724e+01 -7.321672e+01 -1.343407e+01   \n",
       "25%   -6.915971e-01 -7.682956e-01 -5.540759e-01 -2.086297e-01 -6.430976e-01   \n",
       "50%   -5.433583e-02 -2.741871e-01  4.010308e-02  2.235804e-02 -5.142873e-02   \n",
       "75%    6.119264e-01  3.985649e-01  5.704361e-01  3.273459e-01  5.971390e-01   \n",
       "max    3.480167e+01  7.330163e+01  1.205895e+02  2.000721e+01  1.559499e+01   \n",
       "\n",
       "       ...           V21           V22           V23           V24  \\\n",
       "count  ...  2.848070e+05  2.848070e+05  2.848070e+05  2.848070e+05   \n",
       "mean   ...  1.654067e-16 -3.568593e-16  2.578648e-16  4.473266e-15   \n",
       "std    ...  7.345240e-01  7.257016e-01  6.244603e-01  6.056471e-01   \n",
       "min    ... -3.483038e+01 -1.093314e+01 -4.480774e+01 -2.836627e+00   \n",
       "25%    ... -2.283949e-01 -5.423504e-01 -1.618463e-01 -3.545861e-01   \n",
       "50%    ... -2.945017e-02  6.781943e-03 -1.119293e-02  4.097606e-02   \n",
       "75%    ...  1.863772e-01  5.285536e-01  1.476421e-01  4.395266e-01   \n",
       "max    ...  2.720284e+01  1.050309e+01  2.252841e+01  4.584549e+00   \n",
       "\n",
       "                V25           V26           V27           V28         Amount  \\\n",
       "count  2.848070e+05  2.848070e+05  2.848070e+05  2.848070e+05  284807.000000   \n",
       "mean   5.340915e-16  1.683437e-15 -3.660091e-16 -1.227390e-16      88.349619   \n",
       "std    5.212781e-01  4.822270e-01  4.036325e-01  3.300833e-01     250.120109   \n",
       "min   -1.029540e+01 -2.604551e+00 -2.256568e+01 -1.543008e+01       0.000000   \n",
       "25%   -3.171451e-01 -3.269839e-01 -7.083953e-02 -5.295979e-02       5.600000   \n",
       "50%    1.659350e-02 -5.213911e-02  1.342146e-03  1.124383e-02      22.000000   \n",
       "75%    3.507156e-01  2.409522e-01  9.104512e-02  7.827995e-02      77.165000   \n",
       "max    7.519589e+00  3.517346e+00  3.161220e+01  3.384781e+01   25691.160000   \n",
       "\n",
       "               Class  \n",
       "count  284807.000000  \n",
       "mean        0.001727  \n",
       "std         0.041527  \n",
       "min         0.000000  \n",
       "25%         0.000000  \n",
       "50%         0.000000  \n",
       "75%         0.000000  \n",
       "max         1.000000  \n",
       "\n",
       "[8 rows x 31 columns]"
      ]
     },
     "execution_count": 4,
     "metadata": {},
     "output_type": "execute_result"
    }
   ],
   "source": [
    "df.describe()"
   ]
  },
  {
   "cell_type": "markdown",
   "id": "f9d151e8",
   "metadata": {},
   "source": [
    "## Data Preprocessing\n",
    "\n",
    "The preprocessing phase focused on preparing the data for anomaly detection while preserving the natural imbalance that characterizes fraud detection problems."
   ]
  },
  {
   "cell_type": "code",
   "execution_count": 5,
   "id": "680c4a20",
   "metadata": {},
   "outputs": [
    {
     "data": {
      "text/plain": [
       "Time      0\n",
       "V1        0\n",
       "V2        0\n",
       "V3        0\n",
       "V4        0\n",
       "V5        0\n",
       "V6        0\n",
       "V7        0\n",
       "V8        0\n",
       "V9        0\n",
       "V10       0\n",
       "V11       0\n",
       "V12       0\n",
       "V13       0\n",
       "V14       0\n",
       "V15       0\n",
       "V16       0\n",
       "V17       0\n",
       "V18       0\n",
       "V19       0\n",
       "V20       0\n",
       "V21       0\n",
       "V22       0\n",
       "V23       0\n",
       "V24       0\n",
       "V25       0\n",
       "V26       0\n",
       "V27       0\n",
       "V28       0\n",
       "Amount    0\n",
       "Class     0\n",
       "dtype: int64"
      ]
     },
     "execution_count": 5,
     "metadata": {},
     "output_type": "execute_result"
    }
   ],
   "source": [
    "# Check for missing values\n",
    "df.isnull().sum()"
   ]
  },
  {
   "cell_type": "markdown",
   "id": "1efeb754",
   "metadata": {},
   "source": [
    "The output shows that there are no missing values in the dataset."
   ]
  },
  {
   "cell_type": "code",
   "execution_count": 6,
   "id": "d29156b6",
   "metadata": {
    "scrolled": true
   },
   "outputs": [
    {
     "data": {
      "text/plain": [
       "Class\n",
       "0    284315\n",
       "1       492\n",
       "Name: count, dtype: int64"
      ]
     },
     "execution_count": 6,
     "metadata": {},
     "output_type": "execute_result"
    }
   ],
   "source": [
    "# Class distribution\n",
    "df['Class'].value_counts()"
   ]
  },
  {
   "cell_type": "markdown",
   "id": "78f5ddd0",
   "metadata": {},
   "source": [
    "The dataset is highly imbalanced, with 492 fraudulent transactions (Class 1) out of 284,315 total transactions. This means that fraud cases represent only about 0.172% of the data. If we train a model directly on this dataset without addressing class imbalance, it will likely predict the majority class (Class 0 - non-fraud) most of the time, leading to misleadingly high accuracy but poor recall for fraud cases.\n",
    "\n",
    "Since we are performing anomaly detection, we will not resample the data but rather focus on models that detect rare events naturally.."
   ]
  },
  {
   "cell_type": "markdown",
   "id": "80903817",
   "metadata": {},
   "source": [
    "## Exploratory Data Analysis (EDA)"
   ]
  },
  {
   "cell_type": "markdown",
   "id": "4f29d8f4",
   "metadata": {},
   "source": [
    "### Class distribution."
   ]
  },
  {
   "cell_type": "code",
   "execution_count": 7,
   "id": "433e6dad",
   "metadata": {},
   "outputs": [
    {
     "data": {
      "image/png": "[encoded data removed]",
      "text/plain": [
       "<Figure size 432x288 with 1 Axes>"
      ]
     },
     "metadata": {
      "needs_background": "light"
     },
     "output_type": "display_data"
    }
   ],
   "source": [
    "sns.countplot(x='Class', data=df)\n",
    "plt.title(\"Class Distribution\")\n",
    "plt.show()"
   ]
  },
  {
   "cell_type": "markdown",
   "id": "8738b4bd",
   "metadata": {},
   "source": [
    "This imbalance means that a naive classifier predicting all transactions as legitimate would achieve an accuracy of over 99%, but such a model would be useless in a real-world fraud detection scenario, where detecting even a small number of fraudulent transactions can prevent significant financial losses. Due to this imbalance, we need to carefully choose evaluation metrics such as Precision, Recall, F1-score, and AUC-ROC, rather than relying on accuracy alone."
   ]
  },
  {
   "cell_type": "markdown",
   "id": "f1b6cfe6",
   "metadata": {},
   "source": [
    "### Correlation Analysis\n",
    "\n",
    "Since the dataset is PCA-transformed (except for Time and Amount), we check correlations:"
   ]
  },
  {
   "cell_type": "code",
   "execution_count": 8,
   "id": "4ec284ca",
   "metadata": {},
   "outputs": [
    {
     "data": {
      "image/png": "[encoded data removed]",
      "text/plain": [
       "<Figure size 864x432 with 2 Axes>"
      ]
     },
     "metadata": {
      "needs_background": "light"
     },
     "output_type": "display_data"
    }
   ],
   "source": [
    "# Checking for Correlations\n",
    "\n",
    "plt.figure(figsize=(12, 6))\n",
    "sns.heatmap(df.corr(), cmap=\"coolwarm\", center=0)\n",
    "plt.title(\"Feature Correlation Heatmap\")\n",
    "plt.show()"
   ]
  },
  {
   "cell_type": "markdown",
   "id": "a6208d98",
   "metadata": {},
   "source": [
    "Since the dataset has undergone PCA transformation, most features are uncorrelated, with the exception of Time and Amount, which are not PCA-transformed. Standardizing these two features ensures that all input variables are on a similar scale, preventing models from being biased by their magnitude differences. After standardization, we are ready to implement anomaly detection techniques."
   ]
  },
  {
   "cell_type": "markdown",
   "id": "3c928772",
   "metadata": {},
   "source": [
    "Scaling ensures consistency in feature magnitudes, preventing bias in model training."
   ]
  },
  {
   "cell_type": "code",
   "execution_count": 9,
   "id": "0398bb32",
   "metadata": {},
   "outputs": [],
   "source": [
    "# Feature Scaling\n",
    "from sklearn.preprocessing import StandardScaler\n",
    "\n",
    "scaler = StandardScaler()\n",
    "df['Amount'] = scaler.fit_transform(df[['Amount']])\n",
    "df['Time'] = scaler.fit_transform(df[['Time']])"
   ]
  },
  {
   "cell_type": "markdown",
   "id": "31a5b621",
   "metadata": {},
   "source": [
    "### Applying Anomaly Detection Models"
   ]
  },
  {
   "cell_type": "code",
   "execution_count": 10,
   "id": "d53454a2",
   "metadata": {},
   "outputs": [],
   "source": [
    "# Features and target\n",
    "X = df.drop(columns=['Class'])  \n",
    "y = df['Class']  \n",
    "\n",
    "from sklearn.model_selection import train_test_split\n",
    "X_train, X_test, y_train, y_test = train_test_split(X, y, test_size=0.2, random_state=42, stratify=y)"
   ]
  },
  {
   "cell_type": "markdown",
   "id": "a07f7755",
   "metadata": {},
   "source": [
    "The dataset is split into training (80%) and testing (20%) sets, ensuring that both sets maintain the original class distribution using stratified sampling. Stratification is essential in imbalanced datasets to ensure that the model is exposed to a similar proportion of fraud cases in both training and testing."
   ]
  },
  {
   "cell_type": "markdown",
   "id": "a30552dd",
   "metadata": {},
   "source": [
    "### 1. Isolation Forest\n",
    "Isolation Forest is a tree-based method that isolates anomalies by randomly partitioning the data, assuming that anomalies require fewer splits to isolate due to their rarity.\n",
    "\n",
    "- Pros: Works well for anomaly detection.\n",
    "- Cons: Might need fine-tuning for contamination rate."
   ]
  },
  {
   "cell_type": "code",
   "execution_count": 11,
   "id": "ebf56d3a",
   "metadata": {},
   "outputs": [],
   "source": [
    "from sklearn.ensemble import IsolationForest\n",
    "from sklearn.metrics import classification_report, roc_auc_score\n",
    "\n",
    "# Train Isolation Forest\n",
    "iso_forest = IsolationForest(n_estimators=100, contamination=0.001, random_state=42)\n",
    "iso_forest.fit(X_train)\n",
    "\n",
    "# Predict anomalies (IF assigns -1 to anomalies)\n",
    "y_pred_if = iso_forest.predict(X_test)\n",
    "y_pred_if = np.where(y_pred_if == -1, 1, 0)  # Convert -1 (anomaly) to 1 (fraud)"
   ]
  },
  {
   "cell_type": "markdown",
   "id": "b93c2253",
   "metadata": {},
   "source": [
    "In this project, selecting the right performance metrics is crucial due to the extreme class imbalance, where fraudulent transactions make up only **0.172%** of the dataset. Traditional accuracy is misleading because a model predicting all transactions as non-fraudulent would achieve over **99.8% accuracy** while completely failing to detect fraud. Instead, we focus on **Precision, Recall, F1-score, and AUC-ROC**. \n",
    "\n",
    "- **Recall** is essential because missing fraudulent transactions can result in significant financial losses, but optimizing only for recall can lead to excessive false positives, causing inconvenience to customers. \n",
    "- **Precision** helps ensure that flagged fraud cases are truly fraudulent, reducing unnecessary investigations, but overly high precision can result in missed fraud. \n",
    "- The **F1-score** balances both, providing a comprehensive measure of fraud detection effectiveness. \n",
    "- Additionally, **AUC-ROC** evaluates the model's ability to distinguish between fraud and non-fraud transactions across various classification thresholds, making it a robust metric for comparing different models objectively. \n",
    "\n",
    "Since the real-world goal is to detect fraud **while minimizing false positives**, we prioritize **F1-score and AUC-ROC**, ensuring our model is both accurate and practical for financial institutions to deploy. 🚀"
   ]
  },
  {
   "cell_type": "code",
   "execution_count": 12,
   "id": "945498a2",
   "metadata": {},
   "outputs": [
    {
     "name": "stdout",
     "output_type": "stream",
     "text": [
      "Isolation Forest Performance:\n",
      "              precision    recall  f1-score   support\n",
      "\n",
      "           0       1.00      1.00      1.00     56864\n",
      "           1       0.39      0.26      0.31        98\n",
      "\n",
      "    accuracy                           1.00     56962\n",
      "   macro avg       0.69      0.63      0.65     56962\n",
      "weighted avg       1.00      1.00      1.00     56962\n",
      "\n",
      "ROC-AUC Score: 0.6272080969416466\n"
     ]
    }
   ],
   "source": [
    "# Evaluate performance\n",
    "print(\"Isolation Forest Performance:\")\n",
    "print(classification_report(y_test, y_pred_if))\n",
    "print(\"ROC-AUC Score:\", roc_auc_score(y_test, y_pred_if))"
   ]
  },
  {
   "cell_type": "markdown",
   "id": "d5908a9e",
   "metadata": {},
   "source": [
    "Isolation Forest is trained with 100 estimators and a contamination rate of 0.001 (representing the expected proportion of anomalies). The model assigns -1 to anomalies (fraudulent transactions) and 1 to normal transactions. These predictions are converted to binary fraud labels (1 for fraud, 0 for normal transactions) before evaluation. The initial AUC-ROC score is 0.627, indicating that the model is able to detect some anomalies but still struggles to separate fraud from normal transactions effectively."
   ]
  },
  {
   "cell_type": "markdown",
   "id": "58e70455",
   "metadata": {},
   "source": [
    "#### Fine-Tuning Isolation Forest\n",
    "\n",
    "Since AUC-ROC is only 0.627, we should fine-tune the contamination rate and estimators:"
   ]
  },
  {
   "cell_type": "code",
   "execution_count": 13,
   "id": "e95554de",
   "metadata": {
    "scrolled": true
   },
   "outputs": [
    {
     "name": "stdout",
     "output_type": "stream",
     "text": [
      "Tuned Isolation Forest Performance:\n",
      "              precision    recall  f1-score   support\n",
      "\n",
      "           0       1.00      1.00      1.00     56864\n",
      "           1       0.28      0.52      0.37        98\n",
      "\n",
      "    accuracy                           1.00     56962\n",
      "   macro avg       0.64      0.76      0.68     56962\n",
      "weighted avg       1.00      1.00      1.00     56962\n",
      "\n",
      "Tuned Isolation Forest AUC-ROC: 0.7590610034109312\n"
     ]
    }
   ],
   "source": [
    "from sklearn.ensemble import IsolationForest\n",
    "\n",
    "# Tune parameters\n",
    "iso_forest = IsolationForest(n_estimators=300, contamination=0.003, max_samples=0.8, max_features=15, random_state=42)\n",
    "iso_forest.fit(X_train)\n",
    "\n",
    "# Predict\n",
    "y_pred_if_opt = iso_forest.predict(X_test)\n",
    "y_pred_if_opt = np.where(y_pred_if_opt == -1, 1, 0)\n",
    "\n",
    "# Evaluate performance\n",
    "print(\"Tuned Isolation Forest Performance:\")\n",
    "print(classification_report(y_test, y_pred_if_opt))\n",
    "print(\"Tuned Isolation Forest AUC-ROC:\", roc_auc_score(y_test, y_pred_if_opt))"
   ]
  },
  {
   "cell_type": "markdown",
   "id": "859c98b4",
   "metadata": {},
   "source": [
    "This leads to an improved AUC-ROC score, but performance remains suboptimal, indicating that more sophisticated techniques may be needed."
   ]
  },
  {
   "cell_type": "markdown",
   "id": "6c9d71c4",
   "metadata": {},
   "source": [
    "### 2. Autoencoder (Neural Network-Based)\n",
    "Autoencoders will learn to reconstruct normal transactions; fraudulent transactions will have higher reconstruction errors since they do not conform to normal patterns.\n",
    "The neural network architecture consists of several hidden layers, reducing the input dimension before reconstructing it back.\n",
    "\n",
    "- Pros: Learns hidden patterns well.\n",
    "- Cons: Requires training and tuning."
   ]
  },
  {
   "cell_type": "code",
   "execution_count": 14,
   "id": "b514d3a1",
   "metadata": {},
   "outputs": [
    {
     "name": "stdout",
     "output_type": "stream",
     "text": [
      "Epoch 1/10\n",
      "3199/3199 [==============================] - 9s 2ms/step - loss: 0.8789 - val_loss: 0.8236\n",
      "Epoch 2/10\n",
      "3199/3199 [==============================] - 6s 2ms/step - loss: 0.8196 - val_loss: 0.8031\n",
      "Epoch 3/10\n",
      "3199/3199 [==============================] - 6s 2ms/step - loss: 0.8067 - val_loss: 0.7945\n",
      "Epoch 4/10\n",
      "3199/3199 [==============================] - 6s 2ms/step - loss: 0.7996 - val_loss: 0.7861\n",
      "Epoch 5/10\n",
      "3199/3199 [==============================] - 5s 2ms/step - loss: 0.7932 - val_loss: 0.7817\n",
      "Epoch 6/10\n",
      "3199/3199 [==============================] - 7s 2ms/step - loss: 0.7892 - val_loss: 0.7792\n",
      "Epoch 7/10\n",
      "3199/3199 [==============================] - 7s 2ms/step - loss: 0.7875 - val_loss: 0.7780\n",
      "Epoch 8/10\n",
      "3199/3199 [==============================] - 6s 2ms/step - loss: 0.7860 - val_loss: 0.7766\n",
      "Epoch 9/10\n",
      "3199/3199 [==============================] - 6s 2ms/step - loss: 0.7851 - val_loss: 0.7753\n",
      "Epoch 10/10\n",
      "3199/3199 [==============================] - 6s 2ms/step - loss: 0.7843 - val_loss: 0.7757\n"
     ]
    },
    {
     "data": {
      "text/plain": [
       "<keras.src.callbacks.History at 0x1c769ae4a60>"
      ]
     },
     "execution_count": 14,
     "metadata": {},
     "output_type": "execute_result"
    }
   ],
   "source": [
    "import tensorflow as tf\n",
    "from tensorflow.keras.models import Sequential\n",
    "from tensorflow.keras.layers import Dense\n",
    "from tensorflow.keras.optimizers import Adam\n",
    "\n",
    "# Define Autoencoder model\n",
    "input_dim = X_train.shape[1]\n",
    "autoencoder = Sequential([\n",
    "    Dense(32, activation='relu', input_shape=(input_dim,)),\n",
    "    Dense(16, activation='relu'),\n",
    "    Dense(8, activation='relu'),\n",
    "    Dense(16, activation='relu'),\n",
    "    Dense(32, activation='relu'),\n",
    "    Dense(input_dim, activation='sigmoid')  # Output same size as input\n",
    "])\n",
    "\n",
    "# Compile model\n",
    "autoencoder.compile(optimizer=Adam(learning_rate=0.001), loss='mse')\n",
    "\n",
    "# Train Autoencoder on normal transactions (Class 0 only)\n",
    "X_train_normal = X_train[y_train == 0]  # Train only on non-fraud data\n",
    "autoencoder.fit(X_train_normal, X_train_normal, epochs=10, batch_size=64, validation_split=0.1, verbose=1)"
   ]
  },
  {
   "cell_type": "markdown",
   "id": "2ae7e586",
   "metadata": {},
   "source": [
    "Training is conducted only on normal transactions (Class 0), ensuring that the model learns normal behavior and flags outliers during testing."
   ]
  },
  {
   "cell_type": "code",
   "execution_count": 15,
   "id": "509647a6",
   "metadata": {},
   "outputs": [
    {
     "name": "stdout",
     "output_type": "stream",
     "text": [
      "1781/1781 [==============================] - 2s 1ms/step\n",
      "Autoencoder Performance:\n",
      "              precision    recall  f1-score   support\n",
      "\n",
      "           0       1.00      0.95      0.97     56864\n",
      "           1       0.03      0.85      0.06        98\n",
      "\n",
      "    accuracy                           0.95     56962\n",
      "   macro avg       0.51      0.90      0.52     56962\n",
      "weighted avg       1.00      0.95      0.97     56962\n",
      "\n",
      "ROC-AUC Score: 0.899148200360617\n"
     ]
    }
   ],
   "source": [
    "# Compute reconstruction errors\n",
    "X_test_reconstructed = autoencoder.predict(X_test)\n",
    "reconstruction_errors = np.mean(np.abs(X_test - X_test_reconstructed), axis=1)\n",
    "\n",
    "# Set threshold for anomaly detection (95th percentile)\n",
    "threshold = np.percentile(reconstruction_errors, 95)\n",
    "\n",
    "# Make predictions\n",
    "y_pred_ae = (reconstruction_errors > threshold).astype(int)\n",
    "\n",
    "# Evaluate performance\n",
    "print(\"Autoencoder Performance:\")\n",
    "print(classification_report(y_test, y_pred_ae))\n",
    "print(\"ROC-AUC Score:\", roc_auc_score(y_test, y_pred_ae))"
   ]
  },
  {
   "cell_type": "markdown",
   "id": "7b4159fa",
   "metadata": {},
   "source": [
    "The 95th percentile of reconstruction error is chosen as the threshold to determine fraud cases. Transactions with errors above this threshold are classified as fraud. When evaluated, the Autoencoder achieves a higher AUC-ROC score than Isolation Forest, demonstrating that it is more effective at detecting fraudulent transactions."
   ]
  },
  {
   "cell_type": "code",
   "execution_count": 16,
   "id": "23cd750c",
   "metadata": {},
   "outputs": [
    {
     "name": "stdout",
     "output_type": "stream",
     "text": [
      "Isolation Forest AUC-ROC: 0.7590610034109312\n",
      "Autoencoder AUC-ROC: 0.899148200360617\n"
     ]
    }
   ],
   "source": [
    "# Store results\n",
    "models = {\"Isolation Forest\": y_pred_if_opt, \"Autoencoder\": y_pred_ae}\n",
    "\n",
    "for name, preds in models.items():\n",
    "    print(f\"{name} AUC-ROC: {roc_auc_score(y_test, preds)}\")"
   ]
  },
  {
   "cell_type": "markdown",
   "id": "97241bd0",
   "metadata": {},
   "source": [
    "##### Conclusion \n",
    "\n",
    "Based on our analysis, Autoencoder outperformed Isolation Forest in detecting fraudulent transactions. While Isolation Forest provided reasonable anomaly detection, its performance was limited due to its reliance on decision-tree-based partitioning, which may not capture complex fraud patterns effectively. In contrast, the Autoencoder was able to learn hidden patterns in normal transactions and detect fraud cases with greater accuracy, making it a more suitable approach for this dataset."
   ]
  },
  {
   "cell_type": "markdown",
   "id": "310d3d17",
   "metadata": {},
   "source": [
    "Overall, this study demonstrates the importance of anomaly detection in financial security and highlights the potential of deep learning models like Autoencoders for proactively identifying fraudulent transactions. With further improvements, such systems can significantly reduce financial losses and enhance fraud prevention strategies in the banking industry."
   ]
  }
 ],
 "metadata": {
  "kernelspec": {
   "display_name": "Python (learn-env)",
   "language": "python",
   "name": "learn-env"
  },
  "language_info": {
   "codemirror_mode": {
    "name": "ipython",
    "version": 3
   },
   "file_extension": ".py",
   "mimetype": "text/x-python",
   "name": "python",
   "nbconvert_exporter": "python",
   "pygments_lexer": "ipython3",
   "version": "3.8.5"
  }
 },
 "nbformat": 4,
 "nbformat_minor": 5
}
